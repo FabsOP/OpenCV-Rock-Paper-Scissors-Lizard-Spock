{
 "cells": [
  {
   "cell_type": "markdown",
   "metadata": {},
   "source": [
    "## Install libraries"
   ]
  },
  {
   "cell_type": "code",
   "execution_count": 21,
   "metadata": {},
   "outputs": [
    {
     "name": "stdout",
     "output_type": "stream",
     "text": [
      "Requirement already satisfied: mediapipe in c:\\users\\fabio\\desktop\\projects\\opencv-rock-paper-scissors-lizard-spock\\.venv\\lib\\site-packages (from -r requirements.txt (line 1)) (0.10.18)\n",
      "Requirement already satisfied: cvzone in c:\\users\\fabio\\desktop\\projects\\opencv-rock-paper-scissors-lizard-spock\\.venv\\lib\\site-packages (from -r requirements.txt (line 2)) (1.6.1)\n",
      "Requirement already satisfied: pandas in c:\\users\\fabio\\desktop\\projects\\opencv-rock-paper-scissors-lizard-spock\\.venv\\lib\\site-packages (from -r requirements.txt (line 3)) (2.2.3)\n",
      "Requirement already satisfied: numpy in c:\\users\\fabio\\desktop\\projects\\opencv-rock-paper-scissors-lizard-spock\\.venv\\lib\\site-packages (from -r requirements.txt (line 4)) (1.26.4)\n",
      "Requirement already satisfied: scikit-learn in c:\\users\\fabio\\desktop\\projects\\opencv-rock-paper-scissors-lizard-spock\\.venv\\lib\\site-packages (from -r requirements.txt (line 5)) (1.6.1)\n",
      "Requirement already satisfied: tensorflow in c:\\users\\fabio\\desktop\\projects\\opencv-rock-paper-scissors-lizard-spock\\.venv\\lib\\site-packages (from -r requirements.txt (line 6)) (2.18.0)\n",
      "Requirement already satisfied: absl-py in c:\\users\\fabio\\desktop\\projects\\opencv-rock-paper-scissors-lizard-spock\\.venv\\lib\\site-packages (from mediapipe->-r requirements.txt (line 1)) (2.1.0)\n",
      "Requirement already satisfied: attrs>=19.1.0 in c:\\users\\fabio\\desktop\\projects\\opencv-rock-paper-scissors-lizard-spock\\.venv\\lib\\site-packages (from mediapipe->-r requirements.txt (line 1)) (24.2.0)\n",
      "Requirement already satisfied: flatbuffers>=2.0 in c:\\users\\fabio\\desktop\\projects\\opencv-rock-paper-scissors-lizard-spock\\.venv\\lib\\site-packages (from mediapipe->-r requirements.txt (line 1)) (24.3.25)\n",
      "Requirement already satisfied: jax in c:\\users\\fabio\\desktop\\projects\\opencv-rock-paper-scissors-lizard-spock\\.venv\\lib\\site-packages (from mediapipe->-r requirements.txt (line 1)) (0.4.30)\n",
      "Requirement already satisfied: jaxlib in c:\\users\\fabio\\desktop\\projects\\opencv-rock-paper-scissors-lizard-spock\\.venv\\lib\\site-packages (from mediapipe->-r requirements.txt (line 1)) (0.4.30)\n",
      "Requirement already satisfied: matplotlib in c:\\users\\fabio\\desktop\\projects\\opencv-rock-paper-scissors-lizard-spock\\.venv\\lib\\site-packages (from mediapipe->-r requirements.txt (line 1)) (3.9.4)\n",
      "Requirement already satisfied: opencv-contrib-python in c:\\users\\fabio\\desktop\\projects\\opencv-rock-paper-scissors-lizard-spock\\.venv\\lib\\site-packages (from mediapipe->-r requirements.txt (line 1)) (4.10.0.84)\n",
      "Requirement already satisfied: protobuf<5,>=4.25.3 in c:\\users\\fabio\\desktop\\projects\\opencv-rock-paper-scissors-lizard-spock\\.venv\\lib\\site-packages (from mediapipe->-r requirements.txt (line 1)) (4.25.5)\n",
      "Requirement already satisfied: sounddevice>=0.4.4 in c:\\users\\fabio\\desktop\\projects\\opencv-rock-paper-scissors-lizard-spock\\.venv\\lib\\site-packages (from mediapipe->-r requirements.txt (line 1)) (0.5.1)\n",
      "Requirement already satisfied: sentencepiece in c:\\users\\fabio\\desktop\\projects\\opencv-rock-paper-scissors-lizard-spock\\.venv\\lib\\site-packages (from mediapipe->-r requirements.txt (line 1)) (0.2.0)\n",
      "Requirement already satisfied: opencv-python in c:\\users\\fabio\\desktop\\projects\\opencv-rock-paper-scissors-lizard-spock\\.venv\\lib\\site-packages (from cvzone->-r requirements.txt (line 2)) (4.10.0.84)\n",
      "Requirement already satisfied: python-dateutil>=2.8.2 in c:\\users\\fabio\\desktop\\projects\\opencv-rock-paper-scissors-lizard-spock\\.venv\\lib\\site-packages (from pandas->-r requirements.txt (line 3)) (2.9.0.post0)\n",
      "Requirement already satisfied: pytz>=2020.1 in c:\\users\\fabio\\desktop\\projects\\opencv-rock-paper-scissors-lizard-spock\\.venv\\lib\\site-packages (from pandas->-r requirements.txt (line 3)) (2024.2)\n",
      "Requirement already satisfied: tzdata>=2022.7 in c:\\users\\fabio\\desktop\\projects\\opencv-rock-paper-scissors-lizard-spock\\.venv\\lib\\site-packages (from pandas->-r requirements.txt (line 3)) (2024.2)\n",
      "Requirement already satisfied: scipy>=1.6.0 in c:\\users\\fabio\\desktop\\projects\\opencv-rock-paper-scissors-lizard-spock\\.venv\\lib\\site-packages (from scikit-learn->-r requirements.txt (line 5)) (1.13.1)\n",
      "Requirement already satisfied: joblib>=1.2.0 in c:\\users\\fabio\\desktop\\projects\\opencv-rock-paper-scissors-lizard-spock\\.venv\\lib\\site-packages (from scikit-learn->-r requirements.txt (line 5)) (1.4.2)\n",
      "Requirement already satisfied: threadpoolctl>=3.1.0 in c:\\users\\fabio\\desktop\\projects\\opencv-rock-paper-scissors-lizard-spock\\.venv\\lib\\site-packages (from scikit-learn->-r requirements.txt (line 5)) (3.5.0)\n",
      "Requirement already satisfied: tensorflow-intel==2.18.0 in c:\\users\\fabio\\desktop\\projects\\opencv-rock-paper-scissors-lizard-spock\\.venv\\lib\\site-packages (from tensorflow->-r requirements.txt (line 6)) (2.18.0)\n",
      "Requirement already satisfied: astunparse>=1.6.0 in c:\\users\\fabio\\desktop\\projects\\opencv-rock-paper-scissors-lizard-spock\\.venv\\lib\\site-packages (from tensorflow-intel==2.18.0->tensorflow->-r requirements.txt (line 6)) (1.6.3)\n",
      "Requirement already satisfied: gast!=0.5.0,!=0.5.1,!=0.5.2,>=0.2.1 in c:\\users\\fabio\\desktop\\projects\\opencv-rock-paper-scissors-lizard-spock\\.venv\\lib\\site-packages (from tensorflow-intel==2.18.0->tensorflow->-r requirements.txt (line 6)) (0.6.0)\n",
      "Requirement already satisfied: google-pasta>=0.1.1 in c:\\users\\fabio\\desktop\\projects\\opencv-rock-paper-scissors-lizard-spock\\.venv\\lib\\site-packages (from tensorflow-intel==2.18.0->tensorflow->-r requirements.txt (line 6)) (0.2.0)\n",
      "Requirement already satisfied: libclang>=13.0.0 in c:\\users\\fabio\\desktop\\projects\\opencv-rock-paper-scissors-lizard-spock\\.venv\\lib\\site-packages (from tensorflow-intel==2.18.0->tensorflow->-r requirements.txt (line 6)) (18.1.1)\n",
      "Requirement already satisfied: opt-einsum>=2.3.2 in c:\\users\\fabio\\desktop\\projects\\opencv-rock-paper-scissors-lizard-spock\\.venv\\lib\\site-packages (from tensorflow-intel==2.18.0->tensorflow->-r requirements.txt (line 6)) (3.4.0)\n",
      "Requirement already satisfied: packaging in c:\\users\\fabio\\desktop\\projects\\opencv-rock-paper-scissors-lizard-spock\\.venv\\lib\\site-packages (from tensorflow-intel==2.18.0->tensorflow->-r requirements.txt (line 6)) (24.2)\n",
      "Requirement already satisfied: requests<3,>=2.21.0 in c:\\users\\fabio\\desktop\\projects\\opencv-rock-paper-scissors-lizard-spock\\.venv\\lib\\site-packages (from tensorflow-intel==2.18.0->tensorflow->-r requirements.txt (line 6)) (2.32.3)\n",
      "Requirement already satisfied: setuptools in c:\\users\\fabio\\desktop\\projects\\opencv-rock-paper-scissors-lizard-spock\\.venv\\lib\\site-packages (from tensorflow-intel==2.18.0->tensorflow->-r requirements.txt (line 6)) (49.2.1)\n",
      "Requirement already satisfied: six>=1.12.0 in c:\\users\\fabio\\desktop\\projects\\opencv-rock-paper-scissors-lizard-spock\\.venv\\lib\\site-packages (from tensorflow-intel==2.18.0->tensorflow->-r requirements.txt (line 6)) (1.17.0)\n",
      "Requirement already satisfied: termcolor>=1.1.0 in c:\\users\\fabio\\desktop\\projects\\opencv-rock-paper-scissors-lizard-spock\\.venv\\lib\\site-packages (from tensorflow-intel==2.18.0->tensorflow->-r requirements.txt (line 6)) (2.5.0)\n",
      "Requirement already satisfied: typing-extensions>=3.6.6 in c:\\users\\fabio\\desktop\\projects\\opencv-rock-paper-scissors-lizard-spock\\.venv\\lib\\site-packages (from tensorflow-intel==2.18.0->tensorflow->-r requirements.txt (line 6)) (4.12.2)\n",
      "Requirement already satisfied: wrapt>=1.11.0 in c:\\users\\fabio\\desktop\\projects\\opencv-rock-paper-scissors-lizard-spock\\.venv\\lib\\site-packages (from tensorflow-intel==2.18.0->tensorflow->-r requirements.txt (line 6)) (1.17.0)\n",
      "Requirement already satisfied: grpcio<2.0,>=1.24.3 in c:\\users\\fabio\\desktop\\projects\\opencv-rock-paper-scissors-lizard-spock\\.venv\\lib\\site-packages (from tensorflow-intel==2.18.0->tensorflow->-r requirements.txt (line 6)) (1.69.0)\n",
      "Requirement already satisfied: tensorboard<2.19,>=2.18 in c:\\users\\fabio\\desktop\\projects\\opencv-rock-paper-scissors-lizard-spock\\.venv\\lib\\site-packages (from tensorflow-intel==2.18.0->tensorflow->-r requirements.txt (line 6)) (2.18.0)\n",
      "Requirement already satisfied: keras>=3.5.0 in c:\\users\\fabio\\desktop\\projects\\opencv-rock-paper-scissors-lizard-spock\\.venv\\lib\\site-packages (from tensorflow-intel==2.18.0->tensorflow->-r requirements.txt (line 6)) (3.8.0)\n",
      "Requirement already satisfied: h5py>=3.11.0 in c:\\users\\fabio\\desktop\\projects\\opencv-rock-paper-scissors-lizard-spock\\.venv\\lib\\site-packages (from tensorflow-intel==2.18.0->tensorflow->-r requirements.txt (line 6)) (3.12.1)\n",
      "Requirement already satisfied: ml-dtypes<0.5.0,>=0.4.0 in c:\\users\\fabio\\desktop\\projects\\opencv-rock-paper-scissors-lizard-spock\\.venv\\lib\\site-packages (from tensorflow-intel==2.18.0->tensorflow->-r requirements.txt (line 6)) (0.4.1)\n",
      "Requirement already satisfied: tensorflow-io-gcs-filesystem>=0.23.1 in c:\\users\\fabio\\desktop\\projects\\opencv-rock-paper-scissors-lizard-spock\\.venv\\lib\\site-packages (from tensorflow-intel==2.18.0->tensorflow->-r requirements.txt (line 6)) (0.31.0)\n",
      "Requirement already satisfied: CFFI>=1.0 in c:\\users\\fabio\\desktop\\projects\\opencv-rock-paper-scissors-lizard-spock\\.venv\\lib\\site-packages (from sounddevice>=0.4.4->mediapipe->-r requirements.txt (line 1)) (1.17.1)\n",
      "Requirement already satisfied: importlib-metadata>=4.6 in c:\\users\\fabio\\desktop\\projects\\opencv-rock-paper-scissors-lizard-spock\\.venv\\lib\\site-packages (from jax->mediapipe->-r requirements.txt (line 1)) (8.5.0)\n",
      "Requirement already satisfied: contourpy>=1.0.1 in c:\\users\\fabio\\desktop\\projects\\opencv-rock-paper-scissors-lizard-spock\\.venv\\lib\\site-packages (from matplotlib->mediapipe->-r requirements.txt (line 1)) (1.3.0)\n",
      "Requirement already satisfied: cycler>=0.10 in c:\\users\\fabio\\desktop\\projects\\opencv-rock-paper-scissors-lizard-spock\\.venv\\lib\\site-packages (from matplotlib->mediapipe->-r requirements.txt (line 1)) (0.12.1)\n",
      "Requirement already satisfied: fonttools>=4.22.0 in c:\\users\\fabio\\desktop\\projects\\opencv-rock-paper-scissors-lizard-spock\\.venv\\lib\\site-packages (from matplotlib->mediapipe->-r requirements.txt (line 1)) (4.55.3)\n",
      "Requirement already satisfied: kiwisolver>=1.3.1 in c:\\users\\fabio\\desktop\\projects\\opencv-rock-paper-scissors-lizard-spock\\.venv\\lib\\site-packages (from matplotlib->mediapipe->-r requirements.txt (line 1)) (1.4.7)\n",
      "Requirement already satisfied: pillow>=8 in c:\\users\\fabio\\desktop\\projects\\opencv-rock-paper-scissors-lizard-spock\\.venv\\lib\\site-packages (from matplotlib->mediapipe->-r requirements.txt (line 1)) (11.0.0)\n",
      "Requirement already satisfied: pyparsing>=2.3.1 in c:\\users\\fabio\\desktop\\projects\\opencv-rock-paper-scissors-lizard-spock\\.venv\\lib\\site-packages (from matplotlib->mediapipe->-r requirements.txt (line 1)) (3.2.0)\n",
      "Requirement already satisfied: importlib-resources>=3.2.0 in c:\\users\\fabio\\desktop\\projects\\opencv-rock-paper-scissors-lizard-spock\\.venv\\lib\\site-packages (from matplotlib->mediapipe->-r requirements.txt (line 1)) (6.4.5)\n",
      "Requirement already satisfied: wheel<1.0,>=0.23.0 in c:\\users\\fabio\\desktop\\projects\\opencv-rock-paper-scissors-lizard-spock\\.venv\\lib\\site-packages (from astunparse>=1.6.0->tensorflow-intel==2.18.0->tensorflow->-r requirements.txt (line 6)) (0.45.1)\n",
      "Requirement already satisfied: pycparser in c:\\users\\fabio\\desktop\\projects\\opencv-rock-paper-scissors-lizard-spock\\.venv\\lib\\site-packages (from CFFI>=1.0->sounddevice>=0.4.4->mediapipe->-r requirements.txt (line 1)) (2.22)\n",
      "Requirement already satisfied: zipp>=3.20 in c:\\users\\fabio\\desktop\\projects\\opencv-rock-paper-scissors-lizard-spock\\.venv\\lib\\site-packages (from importlib-metadata>=4.6->jax->mediapipe->-r requirements.txt (line 1)) (3.21.0)\n",
      "Requirement already satisfied: rich in c:\\users\\fabio\\desktop\\projects\\opencv-rock-paper-scissors-lizard-spock\\.venv\\lib\\site-packages (from keras>=3.5.0->tensorflow-intel==2.18.0->tensorflow->-r requirements.txt (line 6)) (13.9.4)\n",
      "Requirement already satisfied: namex in c:\\users\\fabio\\desktop\\projects\\opencv-rock-paper-scissors-lizard-spock\\.venv\\lib\\site-packages (from keras>=3.5.0->tensorflow-intel==2.18.0->tensorflow->-r requirements.txt (line 6)) (0.0.8)\n",
      "Requirement already satisfied: optree in c:\\users\\fabio\\desktop\\projects\\opencv-rock-paper-scissors-lizard-spock\\.venv\\lib\\site-packages (from keras>=3.5.0->tensorflow-intel==2.18.0->tensorflow->-r requirements.txt (line 6)) (0.13.1)\n",
      "Requirement already satisfied: charset-normalizer<4,>=2 in c:\\users\\fabio\\desktop\\projects\\opencv-rock-paper-scissors-lizard-spock\\.venv\\lib\\site-packages (from requests<3,>=2.21.0->tensorflow-intel==2.18.0->tensorflow->-r requirements.txt (line 6)) (3.4.1)\n",
      "Requirement already satisfied: idna<4,>=2.5 in c:\\users\\fabio\\desktop\\projects\\opencv-rock-paper-scissors-lizard-spock\\.venv\\lib\\site-packages (from requests<3,>=2.21.0->tensorflow-intel==2.18.0->tensorflow->-r requirements.txt (line 6)) (3.10)\n",
      "Requirement already satisfied: urllib3<3,>=1.21.1 in c:\\users\\fabio\\desktop\\projects\\opencv-rock-paper-scissors-lizard-spock\\.venv\\lib\\site-packages (from requests<3,>=2.21.0->tensorflow-intel==2.18.0->tensorflow->-r requirements.txt (line 6)) (2.3.0)\n",
      "Requirement already satisfied: certifi>=2017.4.17 in c:\\users\\fabio\\desktop\\projects\\opencv-rock-paper-scissors-lizard-spock\\.venv\\lib\\site-packages (from requests<3,>=2.21.0->tensorflow-intel==2.18.0->tensorflow->-r requirements.txt (line 6)) (2024.12.14)\n",
      "Requirement already satisfied: markdown>=2.6.8 in c:\\users\\fabio\\desktop\\projects\\opencv-rock-paper-scissors-lizard-spock\\.venv\\lib\\site-packages (from tensorboard<2.19,>=2.18->tensorflow-intel==2.18.0->tensorflow->-r requirements.txt (line 6)) (3.7)\n",
      "Requirement already satisfied: tensorboard-data-server<0.8.0,>=0.7.0 in c:\\users\\fabio\\desktop\\projects\\opencv-rock-paper-scissors-lizard-spock\\.venv\\lib\\site-packages (from tensorboard<2.19,>=2.18->tensorflow-intel==2.18.0->tensorflow->-r requirements.txt (line 6)) (0.7.2)\n",
      "Requirement already satisfied: werkzeug>=1.0.1 in c:\\users\\fabio\\desktop\\projects\\opencv-rock-paper-scissors-lizard-spock\\.venv\\lib\\site-packages (from tensorboard<2.19,>=2.18->tensorflow-intel==2.18.0->tensorflow->-r requirements.txt (line 6)) (3.1.3)\n",
      "Requirement already satisfied: MarkupSafe>=2.1.1 in c:\\users\\fabio\\desktop\\projects\\opencv-rock-paper-scissors-lizard-spock\\.venv\\lib\\site-packages (from werkzeug>=1.0.1->tensorboard<2.19,>=2.18->tensorflow-intel==2.18.0->tensorflow->-r requirements.txt (line 6)) (3.0.2)\n",
      "Requirement already satisfied: markdown-it-py>=2.2.0 in c:\\users\\fabio\\desktop\\projects\\opencv-rock-paper-scissors-lizard-spock\\.venv\\lib\\site-packages (from rich->keras>=3.5.0->tensorflow-intel==2.18.0->tensorflow->-r requirements.txt (line 6)) (3.0.0)\n",
      "Requirement already satisfied: pygments<3.0.0,>=2.13.0 in c:\\users\\fabio\\desktop\\projects\\opencv-rock-paper-scissors-lizard-spock\\.venv\\lib\\site-packages (from rich->keras>=3.5.0->tensorflow-intel==2.18.0->tensorflow->-r requirements.txt (line 6)) (2.19.1)\n",
      "Requirement already satisfied: mdurl~=0.1 in c:\\users\\fabio\\desktop\\projects\\opencv-rock-paper-scissors-lizard-spock\\.venv\\lib\\site-packages (from markdown-it-py>=2.2.0->rich->keras>=3.5.0->tensorflow-intel==2.18.0->tensorflow->-r requirements.txt (line 6)) (0.1.2)\n",
      "Note: you may need to restart the kernel to use updated packages.\n"
     ]
    }
   ],
   "source": [
    "%pip install -r requirements.txt"
   ]
  },
  {
   "cell_type": "markdown",
   "metadata": {},
   "source": [
    "## Module Imports"
   ]
  },
  {
   "cell_type": "code",
   "execution_count": 22,
   "metadata": {},
   "outputs": [],
   "source": [
    "import pandas as pd\n",
    "import ast\n",
    "from sklearn.model_selection import train_test_split\n",
    "from sklearn.ensemble import RandomForestClassifier\n",
    "from sklearn.metrics import accuracy_score\n",
    "import joblib"
   ]
  },
  {
   "cell_type": "markdown",
   "metadata": {},
   "source": [
    "## Step 1: Load and Preprocess the Data"
   ]
  },
  {
   "cell_type": "code",
   "execution_count": 23,
   "metadata": {},
   "outputs": [],
   "source": [
    "# Read the CSV file\n",
    "df = pd.read_csv('./model/training/training_data.csv', header=None, names=['label', 'handedness', 'landmarks'])\n",
    "\n",
    "# Parse the arrays\n",
    "df['landmarks'] = df['landmarks'].apply(ast.literal_eval)\n",
    "\n",
    "# Prepare the data\n",
    "X = df['landmarks'].tolist()\n",
    "y = df['label']\n",
    "\n",
    "# Flatten the landmarks for each hand\n",
    "X_flattened = [item for sublist in X for item in sublist]"
   ]
  },
  {
   "cell_type": "markdown",
   "metadata": {},
   "source": [
    "## Step 2: Train the Model"
   ]
  },
  {
   "cell_type": "code",
   "execution_count": 24,
   "metadata": {},
   "outputs": [
    {
     "data": {
      "text/plain": [
       "['./model/model.pkl']"
      ]
     },
     "execution_count": 24,
     "metadata": {},
     "output_type": "execute_result"
    }
   ],
   "source": [
    "import numpy as np\n",
    "\n",
    "# Reshape X_flattened to the correct format\n",
    "X_reshaped = np.array(X).reshape(len(X), -1)\n",
    "\n",
    "X_train, X_test, y_train, y_test = train_test_split(X_reshaped, y, test_size=0.2, random_state=42)\n",
    "clf = RandomForestClassifier(n_estimators=100, random_state=42)\n",
    "clf.fit(X_train, y_train)\n",
    "\n",
    "# Save the model\n",
    "joblib.dump(clf, './model/model.pkl')"
   ]
  },
  {
   "cell_type": "markdown",
   "metadata": {},
   "source": [
    "## Step 3: Evaluate the Model"
   ]
  },
  {
   "cell_type": "code",
   "execution_count": 25,
   "metadata": {},
   "outputs": [
    {
     "name": "stdout",
     "output_type": "stream",
     "text": [
      "Accuracy: 100.00%\n"
     ]
    }
   ],
   "source": [
    "y_pred = clf.predict(X_test)\n",
    "accuracy = accuracy_score(y_test, y_pred)\n",
    "print(f'Accuracy: {accuracy * 100:.2f}%')"
   ]
  }
 ],
 "metadata": {
  "kernelspec": {
   "display_name": ".venv",
   "language": "python",
   "name": "python3"
  },
  "language_info": {
   "codemirror_mode": {
    "name": "ipython",
    "version": 3
   },
   "file_extension": ".py",
   "mimetype": "text/x-python",
   "name": "python",
   "nbconvert_exporter": "python",
   "pygments_lexer": "ipython3",
   "version": "3.9.2"
  }
 },
 "nbformat": 4,
 "nbformat_minor": 2
}
